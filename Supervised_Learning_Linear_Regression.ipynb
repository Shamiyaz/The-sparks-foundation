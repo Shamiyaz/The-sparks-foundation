{
  "nbformat": 4,
  "nbformat_minor": 0,
  "metadata": {
    "colab": {
      "name": "Supervised_Learning_Linear_Regression.ipynb",
      "provenance": [],
      "collapsed_sections": [],
      "toc_visible": true
    },
    "kernelspec": {
      "name": "python3",
      "display_name": "Python 3"
    }
  },
  "cells": [
    {
      "cell_type": "markdown",
      "metadata": {
        "id": "SsvfW9SXa2rR"
      },
      "source": [
        "## **Task** **1** :: **Prediction** **using** **supervised** **ML**\r\n",
        "### **Problem Statement** :: Predict the scores of students based on a number of hours he/she has studied\r\n",
        "### By :: Shamiyaz Motorwala"
      ]
    },
    {
      "cell_type": "markdown",
      "metadata": {
        "id": "ZmvT5S8MOO8g"
      },
      "source": [
        "### Importing Libraries for analysis and visualization"
      ]
    },
    {
      "cell_type": "code",
      "metadata": {
        "id": "r_bsB7kyhSaY"
      },
      "source": [
        "import numpy as np\r\n",
        "import pandas as pd\r\n",
        "import matplotlib.pyplot as plt\r\n",
        "import seaborn as sns"
      ],
      "execution_count": 266,
      "outputs": []
    },
    {
      "cell_type": "code",
      "metadata": {
        "colab": {
          "base_uri": "https://localhost:8080/",
          "height": 204
        },
        "id": "Vg4UtIv2hdEj",
        "outputId": "5f384f9b-dc8c-4ced-de89-a25a7f1d4f18"
      },
      "source": [
        "data = pd.read_csv('http://bit.ly/w-data')\r\n",
        "data.head()"
      ],
      "execution_count": 267,
      "outputs": [
        {
          "output_type": "execute_result",
          "data": {
            "text/html": [
              "<div>\n",
              "<style scoped>\n",
              "    .dataframe tbody tr th:only-of-type {\n",
              "        vertical-align: middle;\n",
              "    }\n",
              "\n",
              "    .dataframe tbody tr th {\n",
              "        vertical-align: top;\n",
              "    }\n",
              "\n",
              "    .dataframe thead th {\n",
              "        text-align: right;\n",
              "    }\n",
              "</style>\n",
              "<table border=\"1\" class=\"dataframe\">\n",
              "  <thead>\n",
              "    <tr style=\"text-align: right;\">\n",
              "      <th></th>\n",
              "      <th>Hours</th>\n",
              "      <th>Scores</th>\n",
              "    </tr>\n",
              "  </thead>\n",
              "  <tbody>\n",
              "    <tr>\n",
              "      <th>0</th>\n",
              "      <td>2.5</td>\n",
              "      <td>21</td>\n",
              "    </tr>\n",
              "    <tr>\n",
              "      <th>1</th>\n",
              "      <td>5.1</td>\n",
              "      <td>47</td>\n",
              "    </tr>\n",
              "    <tr>\n",
              "      <th>2</th>\n",
              "      <td>3.2</td>\n",
              "      <td>27</td>\n",
              "    </tr>\n",
              "    <tr>\n",
              "      <th>3</th>\n",
              "      <td>8.5</td>\n",
              "      <td>75</td>\n",
              "    </tr>\n",
              "    <tr>\n",
              "      <th>4</th>\n",
              "      <td>3.5</td>\n",
              "      <td>30</td>\n",
              "    </tr>\n",
              "  </tbody>\n",
              "</table>\n",
              "</div>"
            ],
            "text/plain": [
              "   Hours  Scores\n",
              "0    2.5      21\n",
              "1    5.1      47\n",
              "2    3.2      27\n",
              "3    8.5      75\n",
              "4    3.5      30"
            ]
          },
          "metadata": {
            "tags": []
          },
          "execution_count": 267
        }
      ]
    },
    {
      "cell_type": "code",
      "metadata": {
        "colab": {
          "base_uri": "https://localhost:8080/"
        },
        "id": "P2d4Qmb3hhgs",
        "outputId": "9f85fbb7-b27e-494a-9b6b-542eac224794"
      },
      "source": [
        "data.info()"
      ],
      "execution_count": 268,
      "outputs": [
        {
          "output_type": "stream",
          "text": [
            "<class 'pandas.core.frame.DataFrame'>\n",
            "RangeIndex: 25 entries, 0 to 24\n",
            "Data columns (total 2 columns):\n",
            " #   Column  Non-Null Count  Dtype  \n",
            "---  ------  --------------  -----  \n",
            " 0   Hours   25 non-null     float64\n",
            " 1   Scores  25 non-null     int64  \n",
            "dtypes: float64(1), int64(1)\n",
            "memory usage: 528.0 bytes\n"
          ],
          "name": "stdout"
        }
      ]
    },
    {
      "cell_type": "code",
      "metadata": {
        "colab": {
          "base_uri": "https://localhost:8080/"
        },
        "id": "JXdpKJQ-m_5i",
        "outputId": "22bae8f9-11f0-47da-d063-ba464957859e"
      },
      "source": [
        "data.shape"
      ],
      "execution_count": 269,
      "outputs": [
        {
          "output_type": "execute_result",
          "data": {
            "text/plain": [
              "(25, 2)"
            ]
          },
          "metadata": {
            "tags": []
          },
          "execution_count": 269
        }
      ]
    },
    {
      "cell_type": "code",
      "metadata": {
        "colab": {
          "base_uri": "https://localhost:8080/"
        },
        "id": "dd-3bpjYhnlv",
        "outputId": "f39a1d96-b018-4cd4-eec4-ea089bb2cf78"
      },
      "source": [
        "data.isna().sum()"
      ],
      "execution_count": 270,
      "outputs": [
        {
          "output_type": "execute_result",
          "data": {
            "text/plain": [
              "Hours     0\n",
              "Scores    0\n",
              "dtype: int64"
            ]
          },
          "metadata": {
            "tags": []
          },
          "execution_count": 270
        }
      ]
    },
    {
      "cell_type": "markdown",
      "metadata": {
        "id": "EjngXSp3ceYM"
      },
      "source": [
        "## Checking the correlation between Hours and Score"
      ]
    },
    {
      "cell_type": "code",
      "metadata": {
        "colab": {
          "base_uri": "https://localhost:8080/",
          "height": 279
        },
        "id": "2guDLNarhpVj",
        "outputId": "f0322edc-ad89-46b1-e9ab-a5463729c412"
      },
      "source": [
        "plt.scatter(data['Hours'], data['Scores'], color = 'red')\r\n",
        "plt.grid(color = 'g', animated = True)\r\n",
        "plt.xlabel('Hours')\r\n",
        "plt.ylabel('Scores')\r\n",
        "plt.show()"
      ],
      "execution_count": 271,
      "outputs": [
        {
          "output_type": "display_data",
          "data": {
            "image/png": "[encoded data removed]",
            "text/plain": [
              "<Figure size 432x288 with 1 Axes>"
            ]
          },
          "metadata": {
            "tags": [],
            "needs_background": "light"
          }
        }
      ]
    },
    {
      "cell_type": "markdown",
      "metadata": {
        "id": "E4wqXOzXco4W"
      },
      "source": [
        "### In the above graph we can clearly see that there is a positive correlation between both the variables"
      ]
    },
    {
      "cell_type": "markdown",
      "metadata": {
        "id": "lahaxQGUdA3K"
      },
      "source": [
        "## importing required Model and Metrics using scikit-learn"
      ]
    },
    {
      "cell_type": "code",
      "metadata": {
        "id": "HXJ6sGkVjS4L"
      },
      "source": [
        "from sklearn.model_selection import train_test_split\r\n",
        "from sklearn.linear_model import LinearRegression\r\n",
        "from sklearn.metrics import mean_absolute_error, mean_squared_error"
      ],
      "execution_count": 272,
      "outputs": []
    },
    {
      "cell_type": "markdown",
      "metadata": {
        "id": "CRdcJww_d1s2"
      },
      "source": [
        "### Defining the independent and target variable"
      ]
    },
    {
      "cell_type": "code",
      "metadata": {
        "id": "c548t-SqkME5"
      },
      "source": [
        "# Independent Variable X\r\n",
        "X = data.iloc[:,0].values\r\n",
        "\r\n",
        "# Target Variable y\r\n",
        "y = data.iloc[:,1].values"
      ],
      "execution_count": 273,
      "outputs": []
    },
    {
      "cell_type": "code",
      "metadata": {
        "id": "jIWL1AAol3im"
      },
      "source": [
        "X = X.reshape(-1,1)\r\n",
        "y = y.reshape(-1,1)"
      ],
      "execution_count": 274,
      "outputs": []
    },
    {
      "cell_type": "markdown",
      "metadata": {
        "id": "S8jU-SgieapX"
      },
      "source": [
        "### Splitting the train test data using 75-25 ratio"
      ]
    },
    {
      "cell_type": "code",
      "metadata": {
        "id": "MuLKGpSmkVgQ"
      },
      "source": [
        "X_train, X_test, y_train, y_test = train_test_split(X, y, test_size=0.25, random_state=42)"
      ],
      "execution_count": 275,
      "outputs": []
    },
    {
      "cell_type": "markdown",
      "metadata": {
        "id": "qgIJgZpXeoO3"
      },
      "source": [
        "## Creating and training the Linear Regression Model"
      ]
    },
    {
      "cell_type": "code",
      "metadata": {
        "id": "K6XxAVusk9XB"
      },
      "source": [
        "model = LinearRegression()\r\n",
        "model = model.fit(X_train, y_train)\r\n",
        "prediction = model.predict(X_test)"
      ],
      "execution_count": 276,
      "outputs": []
    },
    {
      "cell_type": "code",
      "metadata": {
        "colab": {
          "base_uri": "https://localhost:8080/",
          "height": 279
        },
        "id": "xdEXNipbnJOu",
        "outputId": "9d68f28d-4154-42ee-8132-086b621920b7"
      },
      "source": [
        "plt.scatter(X_train, y_train, color = 'red')\r\n",
        "plt.plot(X_train, model.predict(X_train), color = 'blue')\r\n",
        "plt.grid(color = 'g', animated = True)\r\n",
        "plt.xlabel('Hours')\r\n",
        "plt.ylabel('Score Predictions')\r\n",
        "plt.show()"
      ],
      "execution_count": 277,
      "outputs": [
        {
          "output_type": "display_data",
          "data": {
            "image/png": "[encoded data removed]",
            "text/plain": [
              "<Figure size 432x288 with 1 Axes>"
            ]
          },
          "metadata": {
            "tags": [],
            "needs_background": "light"
          }
        }
      ]
    },
    {
      "cell_type": "markdown",
      "metadata": {
        "id": "uHaGAXpJfAzn"
      },
      "source": [
        "* The above graph represents the best fit regression line on training data"
      ]
    },
    {
      "cell_type": "code",
      "metadata": {
        "colab": {
          "base_uri": "https://localhost:8080/",
          "height": 279
        },
        "id": "LNovzXWtolrZ",
        "outputId": "6ae261bc-829d-4e0b-8674-37731233a1cd"
      },
      "source": [
        "plt.scatter(X_test, y_test, color = 'red')\r\n",
        "plt.plot(X_train, model.predict(X_train), color = 'blue')\r\n",
        "plt.grid(color = 'g', animated = True)\r\n",
        "plt.xlabel('Hours')\r\n",
        "plt.ylabel('Score Predictions')\r\n",
        "plt.show()"
      ],
      "execution_count": 278,
      "outputs": [
        {
          "output_type": "display_data",
          "data": {
            "image/png": "[encoded data removed]",
            "text/plain": [
              "<Figure size 432x288 with 1 Axes>"
            ]
          },
          "metadata": {
            "tags": [],
            "needs_background": "light"
          }
        }
      ]
    },
    {
      "cell_type": "markdown",
      "metadata": {
        "id": "XBugxPYZgv-E"
      },
      "source": [
        "* The above graph represents the best fit regression line on test data"
      ]
    },
    {
      "cell_type": "markdown",
      "metadata": {
        "id": "KvzC7v5fhUyI"
      },
      "source": [
        "## Evaluating the model using different metrics"
      ]
    },
    {
      "cell_type": "code",
      "metadata": {
        "colab": {
          "base_uri": "https://localhost:8080/"
        },
        "id": "Qd_2klrIs-b1",
        "outputId": "cddb4e84-1ab6-4339-c064-d295ec459fb4"
      },
      "source": [
        "print('Mean Absolute Error      :: ',mean_absolute_error(y_test, prediction))\r\n",
        "print('Root Mean Squared Error  :: ',np.sqrt(mean_squared_error(y_test, prediction)))"
      ],
      "execution_count": 279,
      "outputs": [
        {
          "output_type": "stream",
          "text": [
            "Mean Absolute Error      ::  4.425394675156182\n",
            "Root Mean Squared Error  ::  4.849370684387328\n"
          ],
          "name": "stdout"
        }
      ]
    },
    {
      "cell_type": "code",
      "metadata": {
        "id": "DYwFaOm4RmXk"
      },
      "source": [
        "result = model.predict([[9.25],])"
      ],
      "execution_count": 280,
      "outputs": []
    },
    {
      "cell_type": "code",
      "metadata": {
        "colab": {
          "base_uri": "https://localhost:8080/"
        },
        "id": "YesuPmSytg8N",
        "outputId": "c7be40d1-de98-4df1-c6fd-27d615029d57"
      },
      "source": [
        "print('If the student studies for 9.25 hours, he/she is expected of have a score of :: ', result)"
      ],
      "execution_count": 281,
      "outputs": [
        {
          "output_type": "stream",
          "text": [
            "If the student studies for 9.25 hours, he/she is expected of have a score of ::  [[92.33571987]]\n"
          ],
          "name": "stdout"
        }
      ]
    },
    {
      "cell_type": "code",
      "metadata": {
        "id": "uwhYp2ADpkVh"
      },
      "source": [
        ""
      ],
      "execution_count": null,
      "outputs": []
    }
  ]
}